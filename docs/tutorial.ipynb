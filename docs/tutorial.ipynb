{
 "cells": [
  {
   "cell_type": "code",
   "execution_count": 1,
   "metadata": {},
   "outputs": [
    {
     "ename": "NameError",
     "evalue": "name 'ising' is not defined",
     "output_type": "error",
     "traceback": [
      "\u001b[0;31m---------------------------------------------------------------------------\u001b[0m",
      "\u001b[0;31mNameError\u001b[0m                                 Traceback (most recent call last)",
      "Cell \u001b[0;32mIn[1], line 12\u001b[0m\n\u001b[1;32m      5\u001b[0m PROJECT_ROOT \u001b[38;5;241m=\u001b[39m os\u001b[38;5;241m.\u001b[39mpath\u001b[38;5;241m.\u001b[39mabspath(os\u001b[38;5;241m.\u001b[39mpath\u001b[38;5;241m.\u001b[39mjoin(\n\u001b[1;32m      6\u001b[0m                   os\u001b[38;5;241m.\u001b[39mpath\u001b[38;5;241m.\u001b[39mdirname(\u001b[38;5;124m\"\u001b[39m\u001b[38;5;124m__file__\u001b[39m\u001b[38;5;124m\"\u001b[39m), \n\u001b[1;32m      7\u001b[0m                   os\u001b[38;5;241m.\u001b[39mpardir)\n\u001b[1;32m      8\u001b[0m )\n\u001b[1;32m      9\u001b[0m sys\u001b[38;5;241m.\u001b[39mpath\u001b[38;5;241m.\u001b[39mappend(PROJECT_ROOT)\n\u001b[0;32m---> 12\u001b[0m \u001b[38;5;28;01mimport\u001b[39;00m \u001b[38;5;21;01msrc\u001b[39;00m\n",
      "File \u001b[0;32m~/Documents/research/MS-research/RQE/src/__init__.py:5\u001b[0m\n\u001b[1;32m      1\u001b[0m \u001b[39m#TODO: make global imports here\u001b[39;00m\n\u001b[1;32m      4\u001b[0m \u001b[39mfrom\u001b[39;00m \u001b[39msrc\u001b[39;00m\u001b[39m.\u001b[39;00m\u001b[39mising\u001b[39;00m \u001b[39mimport\u001b[39;00m ising\n\u001b[0;32m----> 5\u001b[0m \u001b[39mfrom\u001b[39;00m \u001b[39msrc\u001b[39;00m\u001b[39m.\u001b[39;00m\u001b[39mresult\u001b[39;00m \u001b[39mimport\u001b[39;00m result\n\u001b[1;32m      6\u001b[0m \u001b[39mfrom\u001b[39;00m \u001b[39msrc\u001b[39;00m\u001b[39m.\u001b[39;00m\u001b[39mvqe\u001b[39;00m \u001b[39mimport\u001b[39;00m vqe\n\u001b[1;32m      7\u001b[0m \u001b[39mfrom\u001b[39;00m \u001b[39msrc\u001b[39;00m\u001b[39m.\u001b[39;00m\u001b[39mrqe\u001b[39;00m \u001b[39mimport\u001b[39;00m rqe\n",
      "File \u001b[0;32m~/Documents/research/MS-research/RQE/src/result.py:14\u001b[0m\n\u001b[1;32m     11\u001b[0m \u001b[39mimport\u001b[39;00m \u001b[39msrc\u001b[39;00m\u001b[39m.\u001b[39;00m\u001b[39mising\u001b[39;00m\n\u001b[1;32m     12\u001b[0m \u001b[39mimport\u001b[39;00m \u001b[39mnumpy\u001b[39;00m \u001b[39mas\u001b[39;00m \u001b[39mnp\u001b[39;00m\n\u001b[0;32m---> 14\u001b[0m \u001b[39mclass\u001b[39;00m \u001b[39mresult\u001b[39;00m:\n\u001b[1;32m     15\u001b[0m     \u001b[39m\"\"\"\u001b[39;00m\n\u001b[1;32m     16\u001b[0m \u001b[39m    Object to store results and calculate evaluation metrics\u001b[39;00m\n\u001b[1;32m     17\u001b[0m \n\u001b[0;32m   (...)\u001b[0m\n\u001b[1;32m     24\u001b[0m \u001b[39m            problem_hamiltonian:ising - The problem hamiltonian of interest\u001b[39;00m\n\u001b[1;32m     25\u001b[0m \u001b[39m    \"\"\"\u001b[39;00m\n\u001b[1;32m     26\u001b[0m     \u001b[39mdef\u001b[39;00m \u001b[39m__init__\u001b[39m(\u001b[39mself\u001b[39m, sim_result:cirq\u001b[39m.\u001b[39mSimulationTrialResult):\n",
      "File \u001b[0;32m~/Documents/research/MS-research/RQE/src/result.py:62\u001b[0m, in \u001b[0;36mresult\u001b[0;34m()\u001b[0m\n\u001b[1;32m     59\u001b[0m     \u001b[39mreturn\u001b[39;00m ZZ, X\n\u001b[1;32m     61\u001b[0m \u001b[39m#TODO: Verify my correctness\u001b[39;00m\n\u001b[0;32m---> 62\u001b[0m \u001b[39mdef\u001b[39;00m \u001b[39mexpect\u001b[39m(\u001b[39mself\u001b[39m, problem_hamiltonian:ising\u001b[39m.\u001b[39mising):\n\u001b[1;32m     63\u001b[0m     \u001b[39m\"\"\"\u001b[39;00m\n\u001b[1;32m     64\u001b[0m \u001b[39m    Calculates the expectation value of the transverse field ising model using the connectivity in problem_hamiltonian\u001b[39;00m\n\u001b[1;32m     65\u001b[0m \n\u001b[0;32m   (...)\u001b[0m\n\u001b[1;32m     69\u001b[0m \u001b[39m            ising object defined in another \u001b[39;00m\n\u001b[1;32m     70\u001b[0m \u001b[39m    \"\"\"\u001b[39;00m\n\u001b[1;32m     71\u001b[0m     \u001b[39mself\u001b[39m\u001b[39m.\u001b[39mNp, \u001b[39mself\u001b[39m\u001b[39m.\u001b[39mJ, \u001b[39mself\u001b[39m\u001b[39m.\u001b[39mkappa, lattice, \u001b[39mself\u001b[39m\u001b[39m.\u001b[39mdisorder \u001b[39m=\u001b[39m problem_hamiltonian\u001b[39m.\u001b[39mget_params()\n",
      "\u001b[0;31mNameError\u001b[0m: name 'ising' is not defined"
     ]
    }
   ],
   "source": [
    "#TODO: move me to docs/\n",
    "import os\n",
    "import sys\n",
    "\n",
    "PROJECT_ROOT = os.path.abspath(os.path.join(\n",
    "                  os.path.dirname(\"__file__\"), \n",
    "                  os.pardir)\n",
    ")\n",
    "sys.path.append(PROJECT_ROOT)\n",
    "\n",
    "\n",
    "import src"
   ]
  },
  {
   "cell_type": "code",
   "execution_count": 3,
   "metadata": {},
   "outputs": [],
   "source": [
    "#Ising model parameters\n",
    "Np = 3\n",
    "J = 1\n",
    "kappa = 0.75\n",
    "disorder = False\n",
    "periodic_bc = True\n",
    "\n",
    "#circuit parameters\n",
    "dt = 0.0667\n",
    "N_lps = 20\n",
    "N_r = 20\n",
    "p2 = 0.00\n",
    "\n",
    "#Shadow Qubit Parameters (Using notation from Berg's scoop paper for the energy sweep)\n",
    "primary_shadow_coupling=\"1:1\"\n",
    "B0=5\n",
    "Bf=0.75\n",
    "t1=0.75\n"
   ]
  },
  {
   "cell_type": "code",
   "execution_count": 4,
   "metadata": {},
   "outputs": [
    {
     "ename": "NameError",
     "evalue": "name 'ising' is not defined",
     "output_type": "error",
     "traceback": [
      "\u001b[0;31m---------------------------------------------------------------------------\u001b[0m",
      "\u001b[0;31mNameError\u001b[0m                                 Traceback (most recent call last)",
      "Cell \u001b[0;32mIn[4], line 2\u001b[0m\n\u001b[1;32m      1\u001b[0m \u001b[38;5;66;03m#Create the ising model \u001b[39;00m\n\u001b[0;32m----> 2\u001b[0m Hp \u001b[38;5;241m=\u001b[39m \u001b[43mising\u001b[49m\u001b[38;5;241m.\u001b[39mising(Np\u001b[38;5;241m=\u001b[39mNp, J\u001b[38;5;241m=\u001b[39mJ, kappa\u001b[38;5;241m=\u001b[39mkappa, disorder\u001b[38;5;241m=\u001b[39mdisorder, periodic_bc\u001b[38;5;241m=\u001b[39mperiodic_bc)\n",
      "\u001b[0;31mNameError\u001b[0m: name 'ising' is not defined"
     ]
    }
   ],
   "source": [
    "#Create the ising model \n",
    "Hp = ising.ising(Np=Np, J=J, kappa=kappa, disorder=disorder, periodic_bc=periodic_bc)"
   ]
  },
  {
   "cell_type": "code",
   "execution_count": null,
   "metadata": {},
   "outputs": [],
   "source": [
    "#Create the RQE object with the Ising Model\n",
    "rqe_algorithm = rqe.rqe(problem_hamiltonian=Hp)\n",
    "\n",
    "#Set all the necessary parameters\n",
    "rqe_algorithm.set_circuit_parameters(dt = dt, N_lps=N_lps, N_r=N_r, p2= p2)\n",
    "rqe_algorithm.set_shadow_qubit_parameters(primary_shadow_coupling=primary_shadow_coupling, B0=B0, Bf=Bf, t1=t1)\n",
    "\n"
   ]
  },
  {
   "cell_type": "code",
   "execution_count": null,
   "metadata": {},
   "outputs": [],
   "source": [
    "#Create the VQE object\n",
    "vqe_algorithm = vqe.vqe(problem_hamiltonian = Hp)\n",
    "vqe_algorithm.set_parameters(dt,p2,N_layers=N_lps*N_r)"
   ]
  },
  {
   "cell_type": "code",
   "execution_count": null,
   "metadata": {},
   "outputs": [],
   "source": [
    "#Run the algorithms sequentially\n",
    "rqe_results = rqe_algorithm.simulate()\n",
    "\n",
    "vqe_results = vqe_algorithm.simulate()\n"
   ]
  },
  {
   "cell_type": "code",
   "execution_count": null,
   "metadata": {},
   "outputs": [
    {
     "name": "stdout",
     "output_type": "stream",
     "text": [
      "-0.9996655881404877 0.01815493544563651\n"
     ]
    },
    {
     "data": {
      "text/plain": [
       "-0.9815106526948512"
      ]
     },
     "execution_count": 7,
     "metadata": {},
     "output_type": "execute_result"
    }
   ],
   "source": [
    "vqe_results.expect(Hp)"
   ]
  },
  {
   "cell_type": "code",
   "execution_count": null,
   "metadata": {},
   "outputs": [
    {
     "name": "stdout",
     "output_type": "stream",
     "text": [
      "-0.8723858594894409 -1.1228196658194065\n"
     ]
    },
    {
     "data": {
      "text/plain": [
       "-1.9952055253088474"
      ]
     },
     "execution_count": 8,
     "metadata": {},
     "output_type": "execute_result"
    }
   ],
   "source": [
    "rqe_results.expect(Hp)"
   ]
  }
 ],
 "metadata": {
  "kernelspec": {
   "display_name": "Python 3.9.12 ('base')",
   "language": "python",
   "name": "python3"
  },
  "language_info": {
   "codemirror_mode": {
    "name": "ipython",
    "version": 3
   },
   "file_extension": ".py",
   "mimetype": "text/x-python",
   "name": "python",
   "nbconvert_exporter": "python",
   "pygments_lexer": "ipython3",
   "version": "3.9.12"
  },
  "orig_nbformat": 4,
  "vscode": {
   "interpreter": {
    "hash": "b4283c9f9aee2ed44d4cd364a6f68a07814fec296d193521125bf882e5a6345b"
   }
  }
 },
 "nbformat": 4,
 "nbformat_minor": 2
}
