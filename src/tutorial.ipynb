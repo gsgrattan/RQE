{
 "cells": [
  {
   "cell_type": "code",
   "execution_count": 1,
   "metadata": {},
   "outputs": [],
   "source": [
    "#TODO: move me to docs/\n",
    "\n",
    "import ising\n",
    "\n",
    "import rqe\n",
    "import vqe\n",
    "\n",
    "import result"
   ]
  },
  {
   "cell_type": "code",
   "execution_count": 2,
   "metadata": {},
   "outputs": [],
   "source": [
    "#Ising model parameters\n",
    "Np = 3\n",
    "J = 1\n",
    "kappa = 0.75\n",
    "disorder = False\n",
    "periodic_bc = True\n",
    "\n",
    "#circuit parameters\n",
    "dt = 0.0667\n",
    "N_lps = 20\n",
    "N_r = 20\n",
    "p2 = 0.00\n",
    "\n",
    "#Shadow Qubit Parameters (Using notation from Berg's scoop paper for the energy sweep)\n",
    "primary_shadow_coupling=\"1:1\"\n",
    "B0=5\n",
    "Bf=0.75\n",
    "t1=0.75\n"
   ]
  },
  {
   "cell_type": "code",
   "execution_count": 3,
   "metadata": {},
   "outputs": [],
   "source": [
    "#Create the ising model \n",
    "Hp = ising.ising(Np=Np, J=J, kappa=kappa, disorder=disorder, periodic_bc=periodic_bc)"
   ]
  },
  {
   "cell_type": "code",
   "execution_count": 4,
   "metadata": {},
   "outputs": [],
   "source": [
    "#Create the RQE object with the Ising Model\n",
    "rqe_algorithm = rqe.rqe(problem_hamiltonian=Hp)\n",
    "\n",
    "#Set all the necessary parameters\n",
    "rqe_algorithm.set_circuit_parameters(dt = dt, N_lps=N_lps, N_r=N_r, p2= p2)\n",
    "rqe_algorithm.set_shadow_qubit_parameters(primary_shadow_coupling=primary_shadow_coupling, B0=B0, Bf=Bf, t1=t1)\n",
    "\n"
   ]
  },
  {
   "cell_type": "code",
   "execution_count": 5,
   "metadata": {},
   "outputs": [],
   "source": [
    "#Create the VQE object\n",
    "vqe_algorithm = vqe.vqe(problem_hamiltonian = Hp)\n",
    "vqe_algorithm.set_parameters(dt,p2,N_layers=N_lps*N_r)"
   ]
  },
  {
   "cell_type": "code",
   "execution_count": 6,
   "metadata": {},
   "outputs": [],
   "source": [
    "#Run the algorithms sequentially\n",
    "rqe_results = rqe_algorithm.simulate()\n",
    "\n",
    "vqe_results = vqe_algorithm.simulate()\n"
   ]
  },
  {
   "cell_type": "code",
   "execution_count": 7,
   "metadata": {},
   "outputs": [
    {
     "name": "stdout",
     "output_type": "stream",
     "text": [
      "-0.9996655881404877 0.01815493544563651\n"
     ]
    },
    {
     "data": {
      "text/plain": [
       "-0.9815106526948512"
      ]
     },
     "execution_count": 7,
     "metadata": {},
     "output_type": "execute_result"
    }
   ],
   "source": [
    "vqe_results.expect(Hp)"
   ]
  },
  {
   "cell_type": "code",
   "execution_count": 8,
   "metadata": {},
   "outputs": [
    {
     "name": "stdout",
     "output_type": "stream",
     "text": [
      "-0.8723858594894409 -1.1228196658194065\n"
     ]
    },
    {
     "data": {
      "text/plain": [
       "-1.9952055253088474"
      ]
     },
     "execution_count": 8,
     "metadata": {},
     "output_type": "execute_result"
    }
   ],
   "source": [
    "rqe_results.expect(Hp)"
   ]
  },
  {
   "cell_type": "code",
   "execution_count": 9,
   "metadata": {},
   "outputs": [
    {
     "name": "stdout",
     "output_type": "stream",
     "text": [
      "0.0 2.999999463558197\n",
      "2.999999463558197\n"
     ]
    }
   ],
   "source": [
    "import cirq\n",
    "import result\n",
    "import ising\n",
    "Np = 3\n",
    "J = 0\n",
    "kappa = 1\n",
    "H_test = ising.ising(Np=Np,J=J, kappa=kappa)\n",
    "\n",
    "\n",
    "test_qubits= cirq.NamedQubit(\"p\").range(Np,prefix=\"p\")\n",
    "\n",
    "#create the |101> state\n",
    "\n",
    "gates = [cirq.X.on(test_qubits[0]),cirq.X.on(test_qubits[1]), cirq.X.on(test_qubits[2]), \n",
    "cirq.H.on(test_qubits[0]), cirq.H.on(test_qubits[1]), cirq.H.on(test_qubits[2])]\n",
    "#gates = [cirq.I.on(test_qubits[0]),cirq.X.on(test_qubits[1]),cirq.I.on(test_qubits[2])]\n",
    "circuit = cirq.Circuit(gates)\n",
    "\n",
    "sim = cirq.Simulator()\n",
    "\n",
    "yeet = result.result(sim.simulate(circuit))\n",
    "\n",
    "print(yeet.expect(H_test))\n",
    "\n",
    "\n"
   ]
  }
 ],
 "metadata": {
  "kernelspec": {
   "display_name": "Python 3.9.12 ('base')",
   "language": "python",
   "name": "python3"
  },
  "language_info": {
   "codemirror_mode": {
    "name": "ipython",
    "version": 3
   },
   "file_extension": ".py",
   "mimetype": "text/x-python",
   "name": "python",
   "nbconvert_exporter": "python",
   "pygments_lexer": "ipython3",
   "version": "3.9.12"
  },
  "orig_nbformat": 4,
  "vscode": {
   "interpreter": {
    "hash": "b4283c9f9aee2ed44d4cd364a6f68a07814fec296d193521125bf882e5a6345b"
   }
  }
 },
 "nbformat": 4,
 "nbformat_minor": 2
}
