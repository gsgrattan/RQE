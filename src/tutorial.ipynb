{
 "cells": [
  {
   "cell_type": "code",
   "execution_count": 1,
   "metadata": {},
   "outputs": [],
   "source": [
    "#TODO: move me to docs/\n",
    "\n",
    "import ising\n",
    "\n",
    "import rqe\n",
    "import vqe\n",
    "\n",
    "import result"
   ]
  },
  {
   "cell_type": "code",
   "execution_count": 19,
   "metadata": {},
   "outputs": [],
   "source": [
    "#Ising model parameters\n",
    "Np = 6\n",
    "J = -1\n",
    "kappa = 0.75\n",
    "disorder = False\n",
    "periodic_bc = True\n",
    "\n",
    "#circuit parameters\n",
    "dt = 0.0667\n",
    "N_lps = 20\n",
    "N_r = 20\n",
    "p2 = 0.001\n",
    "\n",
    "#Shadow Qubit Parameters (Using notation from Berg's scoop paper for the energy sweep)\n",
    "primary_shadow_coupling=\"1:1\"\n",
    "B0=5\n",
    "Bf=0.75\n",
    "t1=0.75\n",
    "\n",
    "\n",
    "\n"
   ]
  },
  {
   "cell_type": "code",
   "execution_count": 20,
   "metadata": {},
   "outputs": [],
   "source": [
    "#Create the ising model \n",
    "Hp = ising.ising(Np=Np, J=J, kappa=kappa, disorder=disorder, periodic_bc=periodic_bc)"
   ]
  },
  {
   "cell_type": "code",
   "execution_count": 21,
   "metadata": {},
   "outputs": [],
   "source": [
    "#Create the RQE object with the Ising Model\n",
    "rqe_algorithm = rqe.rqe(problem_hamiltonian=Hp)\n",
    "\n",
    "#Set all the necessary parameters\n",
    "rqe_algorithm.set_circuit_parameters(dt = dt, N_lps=N_lps, N_r=N_r, p2= p2)\n",
    "rqe_algorithm.set_shadow_qubit_parameters(primary_shadow_coupling=primary_shadow_coupling, B0=B0, Bf=Bf, t1=t1)\n",
    "\n"
   ]
  },
  {
   "cell_type": "code",
   "execution_count": 22,
   "metadata": {},
   "outputs": [],
   "source": [
    "#Create the VQE object\n",
    "vqe_algorithm = vqe.vqe(problem_hamiltonian = Hp)\n",
    "vqe_algorithm.set_parameters(dt,p2,N_layers=N_lps*N_r)"
   ]
  },
  {
   "cell_type": "code",
   "execution_count": 23,
   "metadata": {},
   "outputs": [],
   "source": [
    "#Run the algorithms sequentially\n",
    "rqe_results = rqe_algorithm.simulate()\n",
    "\n",
    "vqe_results = vqe_algorithm.simulate()\n"
   ]
  },
  {
   "cell_type": "code",
   "execution_count": 24,
   "metadata": {},
   "outputs": [
    {
     "data": {
      "text/plain": [
       "1.3962300270795822"
      ]
     },
     "execution_count": 24,
     "metadata": {},
     "output_type": "execute_result"
    }
   ],
   "source": [
    "\n",
    "\n",
    "vqe_results.expect(Hp)\n",
    "\n",
    "\n"
   ]
  },
  {
   "cell_type": "code",
   "execution_count": 25,
   "metadata": {},
   "outputs": [
    {
     "data": {
      "text/plain": [
       "4.8344675693660975"
      ]
     },
     "execution_count": 25,
     "metadata": {},
     "output_type": "execute_result"
    }
   ],
   "source": [
    "rqe_results.expect(Hp)\n"
   ]
  },
  {
   "cell_type": "code",
   "execution_count": null,
   "metadata": {},
   "outputs": [],
   "source": [
    "q = cirq.LineQubit.range(3)"
   ]
  },
  {
   "cell_type": "code",
   "execution_count": null,
   "metadata": {},
   "outputs": [],
   "source": [
    "from cirq import ZZ\n",
    "\n",
    "g = [ZZ(q[0], q[1])]\n",
    "cirq.PauliString(g)"
   ]
  }
 ],
 "metadata": {
  "kernelspec": {
   "display_name": "Python 3.9.12 ('base')",
   "language": "python",
   "name": "python3"
  },
  "language_info": {
   "codemirror_mode": {
    "name": "ipython",
    "version": 3
   },
   "file_extension": ".py",
   "mimetype": "text/x-python",
   "name": "python",
   "nbconvert_exporter": "python",
   "pygments_lexer": "ipython3",
   "version": "3.9.12"
  },
  "orig_nbformat": 4,
  "vscode": {
   "interpreter": {
    "hash": "b4283c9f9aee2ed44d4cd364a6f68a07814fec296d193521125bf882e5a6345b"
   }
  }
 },
 "nbformat": 4,
 "nbformat_minor": 2
}
