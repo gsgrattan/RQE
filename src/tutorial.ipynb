{
 "cells": [
  {
   "cell_type": "code",
   "execution_count": 2,
   "metadata": {},
   "outputs": [],
   "source": [
    "#TODO: move me to docs/\n",
    "\n",
    "import ising\n",
    "\n",
    "import rqe\n",
    "import vqe\n",
    "\n",
    "import result"
   ]
  },
  {
   "cell_type": "code",
   "execution_count": 9,
   "metadata": {},
   "outputs": [],
   "source": [
    "#Ising model parameters\n",
    "Np = 6\n",
    "J = 1\n",
    "kappa = 0.75\n",
    "disorder = False\n",
    "periodic_bc = True\n",
    "\n",
    "#circuit parameters\n",
    "dt_vals = [0.0667, 0.1]\n",
    "N_lps = 20\n",
    "N_r = 20\n",
    "p2 = 0.00\n",
    "\n",
    "#Shadow Qubit Parameters (Using notation from Berg's scoop paper for the energy sweep)\n",
    "primary_shadow_coupling=\"1:1\"\n",
    "B0=5\n",
    "Bf=0.75\n",
    "t1=0.75\n"
   ]
  },
  {
   "cell_type": "code",
   "execution_count": 10,
   "metadata": {},
   "outputs": [],
   "source": [
    "#Create the ising model \n",
    "Hp = ising.ising(Np=Np, J=J, kappa=kappa, disorder=disorder, periodic_bc=periodic_bc)"
   ]
  },
  {
   "cell_type": "code",
   "execution_count": 11,
   "metadata": {},
   "outputs": [],
   "source": [
    "#Create the RQE object with the Ising Model\n",
    "rqe_algorithm = rqe.rqe(problem_hamiltonian=Hp)\n",
    "\n",
    "#Set all the necessary parameters\n",
    "neg_vals = []\n",
    "for dt in dt_vals:\n",
    "    rqe_algorithm.set_circuit_parameters(dt = dt, N_lps=N_lps, N_r=N_r, p2= p2)\n",
    "    rqe_algorithm.set_shadow_qubit_parameters(primary_shadow_coupling=primary_shadow_coupling, B0=B0, Bf=Bf, t1=t1)\n",
    "    res = rqe_algorithm.simulate()\n",
    "    rho = res.get_final_density_matrix()\n",
    "\n",
    "    neg = res.negativity(rho)\n",
    "\n",
    "    neg_vals.append(neg)\n",
    "\n",
    "\n",
    "\n"
   ]
  },
  {
   "cell_type": "code",
   "execution_count": 12,
   "metadata": {},
   "outputs": [
    {
     "name": "stdout",
     "output_type": "stream",
     "text": [
      "[array([[ 7.31393099e-01+0.0000000e+00j,  1.52778581e-01-1.8983521e-02j,\n",
      "         1.52300343e-01-1.9053172e-02j, ...,\n",
      "        -1.19120525e-02+1.4779117e-02j, -1.24258157e-02+1.4865763e-02j,\n",
      "        -1.10976517e-01+3.5212744e-02j],\n",
      "       [ 1.52778581e-01+1.8983521e-02j,  3.24061960e-02+0.0000000e+00j,\n",
      "         3.23081054e-02-2.6961789e-05j, ...,\n",
      "        -2.87187030e-03+2.7779862e-03j, -2.98143760e-03+2.7827504e-03j,\n",
      "        -2.40955204e-02+4.4750599e-03j],\n",
      "       [ 1.52300343e-01+1.9053172e-02j,  3.23081054e-02+2.6961789e-05j,\n",
      "         3.22103351e-02+0.0000000e+00j, ...,\n",
      "        -2.86548887e-03+2.7671880e-03j, -2.97472859e-03+2.7718465e-03j,\n",
      "        -2.40263082e-02+4.4414671e-03j],\n",
      "       ...,\n",
      "       [-1.19120525e-02-1.4779117e-02j, -2.87187030e-03-2.7779862e-03j,\n",
      "        -2.86548887e-03-2.7671880e-03j, ...,\n",
      "         4.92647989e-04+0.0000000e+00j,  5.02766343e-04+8.9703462e-06j,\n",
      "         2.51898938e-03+1.6689780e-03j],\n",
      "       [-1.24258157e-02-1.4865763e-02j, -2.98143760e-03-2.7827504e-03j,\n",
      "        -2.97472859e-03-2.7718465e-03j, ...,\n",
      "         5.02766343e-04-8.9703462e-06j,  5.13255887e-04+0.0000000e+00j,\n",
      "         2.60111573e-03+1.6573899e-03j],\n",
      "       [-1.10976517e-01-3.5212744e-02j, -2.40955204e-02-4.4750599e-03j,\n",
      "        -2.40263082e-02-4.4414671e-03j, ...,\n",
      "         2.51898938e-03-1.6689780e-03j,  2.60111573e-03-1.6573899e-03j,\n",
      "         1.85341164e-02+0.0000000e+00j]], dtype=complex64), array([[ 0.11347931+0.0000000e+00j,  0.02067575-4.7197584e-03j,\n",
      "         0.02110554-4.6417052e-03j, ..., -0.03493303-4.2682260e-02j,\n",
      "        -0.03275288-4.3415587e-02j, -0.12437537-2.4422731e-01j],\n",
      "       [ 0.02067575+4.7197584e-03j,  0.00396339+0.0000000e+00j,\n",
      "         0.00403845+3.2096868e-05j, ..., -0.00458953-9.2295511e-03j,\n",
      "        -0.00416181-9.2724869e-03j, -0.01250325-4.9670763e-02j],\n",
      "       [ 0.02110554+4.6417052e-03j,  0.00403845-3.2096868e-05j,\n",
      "         0.00411519+0.0000000e+00j, ..., -0.00475119-9.3671791e-03j,\n",
      "        -0.00431572-9.4143916e-03j, -0.01314229-5.0510205e-02j],\n",
      "       ...,\n",
      "       [-0.03493303+4.2682260e-02j, -0.00458953+9.2295511e-03j,\n",
      "        -0.00475119+9.3671791e-03j, ...,  0.02680746+0.0000000e+00j,\n",
      "         0.02641215+1.0457542e-03j,  0.13014692+2.8401472e-02j],\n",
      "       [-0.03275288+4.3415587e-02j, -0.00416181+9.2724869e-03j,\n",
      "        -0.00431572+9.4143916e-03j, ...,  0.02641215-1.0457542e-03j,\n",
      "         0.02606347+0.0000000e+00j,  0.12933569+2.2905648e-02j],\n",
      "       [-0.12437537+2.4422731e-01j, -0.01250325+4.9670763e-02j,\n",
      "        -0.01314229+5.0510205e-02j, ...,  0.13014692-2.8401472e-02j,\n",
      "         0.12933569-2.2905648e-02j,  0.66193753+0.0000000e+00j]],\n",
      "      dtype=complex64)]\n"
     ]
    }
   ],
   "source": [
    "print(neg_vals)"
   ]
  },
  {
   "cell_type": "code",
   "execution_count": 6,
   "metadata": {},
   "outputs": [],
   "source": [
    "#Create the VQE object\n",
    "vqe_algorithm = vqe.vqe(problem_hamiltonian = Hp)\n",
    "vqe_algorithm.set_parameters(dt,p2,N_layers=N_lps*N_r)"
   ]
  },
  {
   "cell_type": "code",
   "execution_count": 7,
   "metadata": {},
   "outputs": [
    {
     "name": "stdout",
     "output_type": "stream",
     "text": [
      "1.1170265415453442\n"
     ]
    }
   ],
   "source": [
    "#Run the algorithms sequentially\n",
    "rqe_results = rqe_algorithm.simulate()\n",
    "\n",
    "vqe_results = vqe_algorithm.simulate()\n",
    "\n",
    "density_matrix = rqe_results.get_final_density_matrix()\n",
    "\n",
    "neg = rqe_results.negativity(density_matrix)\n",
    "\n",
    "print(neg)\n"
   ]
  },
  {
   "cell_type": "code",
   "execution_count": 31,
   "metadata": {},
   "outputs": [
    {
     "name": "stdout",
     "output_type": "stream",
     "text": [
      "-5.96442574262619 0.33798884600400925\n"
     ]
    },
    {
     "data": {
      "text/plain": [
       "-5.626436896622181"
      ]
     },
     "execution_count": 31,
     "metadata": {},
     "output_type": "execute_result"
    }
   ],
   "source": [
    "vqe_results.expect(Hp)"
   ]
  },
  {
   "cell_type": "code",
   "execution_count": 32,
   "metadata": {},
   "outputs": [
    {
     "name": "stdout",
     "output_type": "stream",
     "text": [
      "-4.835409760475159 -1.972826175391674\n"
     ]
    },
    {
     "data": {
      "text/plain": [
       "-6.808235935866833"
      ]
     },
     "execution_count": 32,
     "metadata": {},
     "output_type": "execute_result"
    }
   ],
   "source": [
    "rqe_results.expect(Hp)"
   ]
  },
  {
   "cell_type": "code",
   "execution_count": 25,
   "metadata": {},
   "outputs": [
    {
     "name": "stdout",
     "output_type": "stream",
     "text": [
      "0.0 2.999999463558197\n",
      "2.999999463558197\n"
     ]
    }
   ],
   "source": [
    "import cirq\n",
    "import result\n",
    "import ising\n",
    "Np = 3\n",
    "J = 0\n",
    "kappa = 1\n",
    "H_test = ising.ising(Np=Np,J=J, kappa=kappa)\n",
    "\n",
    "\n",
    "test_qubits= cirq.NamedQubit(\"p\").range(Np,prefix=\"p\")\n",
    "\n",
    "#create the |101> state\n",
    "\n",
    "gates = [cirq.X.on(test_qubits[0]),cirq.X.on(test_qubits[1]), cirq.X.on(test_qubits[2]), \n",
    "cirq.H.on(test_qubits[0]), cirq.H.on(test_qubits[1]), cirq.H.on(test_qubits[2])]\n",
    "#gates = [cirq.I.on(test_qubits[0]),cirq.X.on(test_qubits[1]),cirq.I.on(test_qubits[2])]\n",
    "circuit = cirq.Circuit(gates)\n",
    "\n",
    "sim = cirq.Simulator()\n",
    "\n",
    "yeet = result.result(sim.simulate(circuit))\n",
    "\n",
    "print(yeet.expect(H_test))\n",
    "\n",
    "\n"
   ]
  }
 ],
 "metadata": {
  "kernelspec": {
   "display_name": "Python 3.9.12 ('base')",
   "language": "python",
   "name": "python3"
  },
  "language_info": {
   "codemirror_mode": {
    "name": "ipython",
    "version": 3
   },
   "file_extension": ".py",
   "mimetype": "text/x-python",
   "name": "python",
   "nbconvert_exporter": "python",
   "pygments_lexer": "ipython3",
   "version": "3.9.12"
  },
  "orig_nbformat": 4,
  "vscode": {
   "interpreter": {
    "hash": "b4283c9f9aee2ed44d4cd364a6f68a07814fec296d193521125bf882e5a6345b"
   }
  }
 },
 "nbformat": 4,
 "nbformat_minor": 2
}
